{
 "cells": [
  {
   "cell_type": "markdown",
   "metadata": {
    "Collapsed": "false"
   },
   "source": [
    "# DSUA-111 Project Example\n",
    "\n",
    "Jeff Jacobs, jpj251@nyu.edu"
   ]
  },
  {
   "cell_type": "markdown",
   "metadata": {
    "Collapsed": "false"
   },
   "source": [
    "## Part 1: Pre-Step"
   ]
  },
  {
   "cell_type": "markdown",
   "metadata": {
    "Collapsed": "false"
   },
   "source": [
    "**Q1**: Describe briefly the question you would like to answer or the topic you would like to explore. Essentially, what do you hope to learn from your analysis?"
   ]
  },
  {
   "cell_type": "markdown",
   "metadata": {
    "Collapsed": "false"
   },
   "source": [
    "Before starting grad school I worked as a development economist, where nearly every \"bad\" aspect of a nation's political economy (low GDP growth, high infant mortality rate, etc.) is attributed to something \"internal\" to the nation in its present form (not enough free markets!), rather than the historical context of how the country got to where it is now. The problem with ignoring this aspect of a country's political economy is that it conveniently sweeps under the rug the decades (and often centuries) during which the nation's economy was *not* under its own control, but rather under the control of its colonizer. Thus I am interested in quantitatively studying the impacts of colonialism on present-day socioeconomic conditions of a country."
   ]
  },
  {
   "cell_type": "markdown",
   "metadata": {
    "Collapsed": "false"
   },
   "source": [
    "## Part 2: Data"
   ]
  },
  {
   "cell_type": "markdown",
   "metadata": {
    "Collapsed": "false"
   },
   "source": [
    "**Q2**: Find a dataset that may help you explore at least some of these questions. **First**, describe where you found the data set. **Second**, describe how you found it. **Third**, describe at least two variables in the dataset that are relevant to the analysis you described above. **Finally**, describe the unit of observation (individual, city, etc.)."
   ]
  },
  {
   "cell_type": "markdown",
   "metadata": {
    "Collapsed": "false"
   },
   "source": [
    "As mentioned in the previous response, I'm interested in the linkage between the colonial history of a country and present-day measures of its socioeconomic \"development\".\n",
    "\n",
    "So, I looked for a dataset on colonial history, and found one here: https://dataverse.harvard.edu/dataset.xhtml?persistentId=doi:10.7910/DVN/5EMETG by searching \"colonialism dataset\" on Google. Actually, first I found this one: https://dataverse.harvard.edu/dataset.xhtml?persistentId=doi:10.7910/DVN/UQZFYA but it (bafflingly) commits the *cardinal sin* we learned in this course, namely, selecting on the dependent variable -- it *only* includes colonized countries, and omits non-colonized countries (for example, the countries *doing* the colonization).\n",
    "\n",
    "Then, I looked for a dataset on present-day socioeconomic conditions that development economists care about. Although there are tons of options here, I went with the WHO's dataset on global life expectancy by country here: https://apps.who.int/gho/data/node.main.688?lang=en (which I found by searching \"life expectancy by country\" on Google) since the WHO provides a particularly nice interface for filtering data: I only wanted the *most recent* life expectancy estimates for every country, and I was able to use that interface to easily drop all years besides 2016 and download the 2016-only dataset.\n",
    "\n",
    "So, the two variables in these datasets that are relevant to the analysis I'd like to perform are:\n",
    "\n",
    "1. `IndDate` from the colonial history dataset, which records the year and month of the country's independence, and\n",
    "2. `Life expectancy at birth (Years)` from the life expectancy dataset, which records the life expectancy expected for the average person born in the country in 2016.\n",
    "\n",
    "The unit of observation, in both cases, is a country."
   ]
  },
  {
   "cell_type": "markdown",
   "metadata": {
    "Collapsed": "false"
   },
   "source": [
    "**Q3**: If you could change this dataset in one way to make it better for your analysis, what would that change be and how could it improve your analysis?"
   ]
  },
  {
   "cell_type": "markdown",
   "metadata": {
    "Collapsed": "false"
   },
   "source": [
    "Well, one massively important variable that's left out of the data I have here is *which* other country was the colonizer of a given country. Having this variable would improve my analysis because it would allow me to *control for* the differential effects of different colonial regimes on the public health of a given country.\n",
    "\n",
    "For example, historians of European colonialism often point to Belgium as one of the \"harshest\" colonial regimes with respect to the negative effects of their colonial policies on public health (see, for example, the book *Leopold's Ghost* by Adam Hochschild), so we'd expect that former Belgian colonies would have lower life expectancies than non-Belgian colonies, as an effect operating *independently of* the number of years since decolonization."
   ]
  },
  {
   "cell_type": "markdown",
   "metadata": {
    "Collapsed": "false"
   },
   "source": [
    "**Q4**: Import the dataset into Jupyter using any method you like and show the first five observations.  If you had to do any pre-work to get the data into an uploadable format please describe it briefly. (If you didn’t, please say so as well.)"
   ]
  },
  {
   "cell_type": "markdown",
   "metadata": {
    "Collapsed": "false"
   },
   "source": [
    "First things first, I wrote a bunch of code for checking which countries were in one dataset but not the other, and which countries had different names in the two datasets (for example, the life expectancy dataset listed Venezuela as `\"Venezuela (Bolivarian Republic of)\"` whereas the colonialism dataset listed it as just `\"Venezuela\"`). But it got a bit overly-complicated for the purposes of this class, so I decided instead to just manually update the names and delete the only-in-one-dataset rows from the `.csv` files. But I'm happy to send the code for auto-cleaning to anyone interested. Now the actual importing:"
   ]
  },
  {
   "cell_type": "code",
   "execution_count": 809,
   "metadata": {
    "Collapsed": "false"
   },
   "outputs": [],
   "source": [
    "import pandas as pd\n",
    "import numpy as np\n",
    "import matplotlib.pyplot as plt"
   ]
  },
  {
   "cell_type": "markdown",
   "metadata": {
    "Collapsed": "false"
   },
   "source": [
    "Here I'll show what the raw data looks like right when we load it, but it'll need a bit of cleaning before we can use it:"
   ]
  },
  {
   "cell_type": "code",
   "execution_count": 810,
   "metadata": {
    "Collapsed": "false"
   },
   "outputs": [],
   "source": [
    "life_df = pd.read_csv(\"life_exp.csv\")"
   ]
  },
  {
   "cell_type": "code",
   "execution_count": 811,
   "metadata": {
    "Collapsed": "false"
   },
   "outputs": [
    {
     "data": {
      "text/html": [
       "<div>\n",
       "<style scoped>\n",
       "    .dataframe tbody tr th:only-of-type {\n",
       "        vertical-align: middle;\n",
       "    }\n",
       "\n",
       "    .dataframe tbody tr th {\n",
       "        vertical-align: top;\n",
       "    }\n",
       "\n",
       "    .dataframe thead th {\n",
       "        text-align: right;\n",
       "    }\n",
       "</style>\n",
       "<table border=\"1\" class=\"dataframe\">\n",
       "  <thead>\n",
       "    <tr style=\"text-align: right;\">\n",
       "      <th></th>\n",
       "      <th>Unnamed: 0</th>\n",
       "      <th>Unnamed: 1</th>\n",
       "      <th>Life expectancy at birth (years)</th>\n",
       "      <th>Life expectancy at birth (years).1</th>\n",
       "      <th>Life expectancy at birth (years).2</th>\n",
       "      <th>Life expectancy at age 60 (years)</th>\n",
       "      <th>Life expectancy at age 60 (years).1</th>\n",
       "      <th>Life expectancy at age 60 (years).2</th>\n",
       "      <th>Healthy life expectancy (HALE) at birth (years)</th>\n",
       "      <th>Healthy life expectancy (HALE) at birth (years).1</th>\n",
       "      <th>Healthy life expectancy (HALE) at birth (years).2</th>\n",
       "      <th>Healthy life expectancy (HALE) at age 60 (years)</th>\n",
       "      <th>Healthy life expectancy (HALE) at age 60 (years).1</th>\n",
       "      <th>Healthy life expectancy (HALE) at age 60 (years).2</th>\n",
       "    </tr>\n",
       "  </thead>\n",
       "  <tbody>\n",
       "    <tr>\n",
       "      <th>0</th>\n",
       "      <td>Country</td>\n",
       "      <td>Year</td>\n",
       "      <td>Both sexes</td>\n",
       "      <td>Male</td>\n",
       "      <td>Female</td>\n",
       "      <td>Both sexes</td>\n",
       "      <td>Male</td>\n",
       "      <td>Female</td>\n",
       "      <td>Both sexes</td>\n",
       "      <td>Male</td>\n",
       "      <td>Female</td>\n",
       "      <td>Both sexes</td>\n",
       "      <td>Male</td>\n",
       "      <td>Female</td>\n",
       "    </tr>\n",
       "    <tr>\n",
       "      <th>1</th>\n",
       "      <td>Afghanistan</td>\n",
       "      <td>2016</td>\n",
       "      <td>62.7</td>\n",
       "      <td>61.0</td>\n",
       "      <td>64.5</td>\n",
       "      <td>16.3</td>\n",
       "      <td>15.5</td>\n",
       "      <td>17.1</td>\n",
       "      <td>53.0</td>\n",
       "      <td>52.1</td>\n",
       "      <td>54.1</td>\n",
       "      <td>11.3</td>\n",
       "      <td>10.9</td>\n",
       "      <td>11.7</td>\n",
       "    </tr>\n",
       "    <tr>\n",
       "      <th>2</th>\n",
       "      <td>Albania</td>\n",
       "      <td>2016</td>\n",
       "      <td>76.4</td>\n",
       "      <td>74.3</td>\n",
       "      <td>78.6</td>\n",
       "      <td>20.8</td>\n",
       "      <td>19.4</td>\n",
       "      <td>22.3</td>\n",
       "      <td>68.1</td>\n",
       "      <td>66.7</td>\n",
       "      <td>69.6</td>\n",
       "      <td>16.3</td>\n",
       "      <td>15.3</td>\n",
       "      <td>17.4</td>\n",
       "    </tr>\n",
       "    <tr>\n",
       "      <th>3</th>\n",
       "      <td>Algeria</td>\n",
       "      <td>2016</td>\n",
       "      <td>76.4</td>\n",
       "      <td>75.4</td>\n",
       "      <td>77.4</td>\n",
       "      <td>21.9</td>\n",
       "      <td>21.4</td>\n",
       "      <td>22.5</td>\n",
       "      <td>65.5</td>\n",
       "      <td>65.4</td>\n",
       "      <td>65.6</td>\n",
       "      <td>15.8</td>\n",
       "      <td>15.7</td>\n",
       "      <td>15.8</td>\n",
       "    </tr>\n",
       "    <tr>\n",
       "      <th>4</th>\n",
       "      <td>Angola</td>\n",
       "      <td>2016</td>\n",
       "      <td>62.6</td>\n",
       "      <td>60.3</td>\n",
       "      <td>64.9</td>\n",
       "      <td>17.3</td>\n",
       "      <td>16.5</td>\n",
       "      <td>18.1</td>\n",
       "      <td>55.8</td>\n",
       "      <td>53.8</td>\n",
       "      <td>57.7</td>\n",
       "      <td>13.6</td>\n",
       "      <td>12.9</td>\n",
       "      <td>14.3</td>\n",
       "    </tr>\n",
       "  </tbody>\n",
       "</table>\n",
       "</div>"
      ],
      "text/plain": [
       "    Unnamed: 0 Unnamed: 1 Life expectancy at birth (years)  \\\n",
       "0      Country       Year                       Both sexes   \n",
       "1  Afghanistan       2016                             62.7   \n",
       "2      Albania       2016                             76.4   \n",
       "3      Algeria       2016                             76.4   \n",
       "4       Angola       2016                             62.6   \n",
       "\n",
       "  Life expectancy at birth (years).1 Life expectancy at birth (years).2  \\\n",
       "0                               Male                             Female   \n",
       "1                               61.0                               64.5   \n",
       "2                               74.3                               78.6   \n",
       "3                               75.4                               77.4   \n",
       "4                               60.3                               64.9   \n",
       "\n",
       "  Life expectancy at age 60 (years) Life expectancy at age 60 (years).1  \\\n",
       "0                        Both sexes                                Male   \n",
       "1                              16.3                                15.5   \n",
       "2                              20.8                                19.4   \n",
       "3                              21.9                                21.4   \n",
       "4                              17.3                                16.5   \n",
       "\n",
       "  Life expectancy at age 60 (years).2  \\\n",
       "0                              Female   \n",
       "1                                17.1   \n",
       "2                                22.3   \n",
       "3                                22.5   \n",
       "4                                18.1   \n",
       "\n",
       "  Healthy life expectancy (HALE) at birth (years)  \\\n",
       "0                                      Both sexes   \n",
       "1                                            53.0   \n",
       "2                                            68.1   \n",
       "3                                            65.5   \n",
       "4                                            55.8   \n",
       "\n",
       "  Healthy life expectancy (HALE) at birth (years).1  \\\n",
       "0                                              Male   \n",
       "1                                              52.1   \n",
       "2                                              66.7   \n",
       "3                                              65.4   \n",
       "4                                              53.8   \n",
       "\n",
       "  Healthy life expectancy (HALE) at birth (years).2  \\\n",
       "0                                            Female   \n",
       "1                                              54.1   \n",
       "2                                              69.6   \n",
       "3                                              65.6   \n",
       "4                                              57.7   \n",
       "\n",
       "  Healthy life expectancy (HALE) at age 60 (years)  \\\n",
       "0                                       Both sexes   \n",
       "1                                             11.3   \n",
       "2                                             16.3   \n",
       "3                                             15.8   \n",
       "4                                             13.6   \n",
       "\n",
       "  Healthy life expectancy (HALE) at age 60 (years).1  \\\n",
       "0                                               Male   \n",
       "1                                               10.9   \n",
       "2                                               15.3   \n",
       "3                                               15.7   \n",
       "4                                               12.9   \n",
       "\n",
       "  Healthy life expectancy (HALE) at age 60 (years).2  \n",
       "0                                             Female  \n",
       "1                                               11.7  \n",
       "2                                               17.4  \n",
       "3                                               15.8  \n",
       "4                                               14.3  "
      ]
     },
     "execution_count": 811,
     "metadata": {},
     "output_type": "execute_result"
    }
   ],
   "source": [
    "life_df.head()"
   ]
  },
  {
   "cell_type": "markdown",
   "metadata": {
    "Collapsed": "false"
   },
   "source": [
    "But this is pretty gross -- really we just want to keep the country, year, and life expectancy variables:"
   ]
  },
  {
   "cell_type": "code",
   "execution_count": 812,
   "metadata": {
    "Collapsed": "false"
   },
   "outputs": [],
   "source": [
    "# Keep only rows from 1 onwards (row 0 is just another row of variable labels),\n",
    "# and only the first 3 columns\n",
    "life_df = life_df.iloc[1:,0:3]\n",
    "# Now that we only have 3 columns, we can set their names manually\n",
    "life_df.columns = [\"country\",\"year\",\"life_exp\"]\n",
    "# Finally, this is subtle but important: when loading the data, Pandas\n",
    "# interpreted life_exp as a *string* instead of a *float* for some reason,\n",
    "# so we need to use pd.to_numeric() to manually force it to be a column of\n",
    "# float values\n",
    "life_df[\"life_exp\"] = pd.to_numeric(life_df[\"life_exp\"])"
   ]
  },
  {
   "cell_type": "code",
   "execution_count": 813,
   "metadata": {
    "Collapsed": "false"
   },
   "outputs": [
    {
     "data": {
      "text/html": [
       "<div>\n",
       "<style scoped>\n",
       "    .dataframe tbody tr th:only-of-type {\n",
       "        vertical-align: middle;\n",
       "    }\n",
       "\n",
       "    .dataframe tbody tr th {\n",
       "        vertical-align: top;\n",
       "    }\n",
       "\n",
       "    .dataframe thead th {\n",
       "        text-align: right;\n",
       "    }\n",
       "</style>\n",
       "<table border=\"1\" class=\"dataframe\">\n",
       "  <thead>\n",
       "    <tr style=\"text-align: right;\">\n",
       "      <th></th>\n",
       "      <th>country</th>\n",
       "      <th>year</th>\n",
       "      <th>life_exp</th>\n",
       "    </tr>\n",
       "  </thead>\n",
       "  <tbody>\n",
       "    <tr>\n",
       "      <th>1</th>\n",
       "      <td>Afghanistan</td>\n",
       "      <td>2016</td>\n",
       "      <td>62.7</td>\n",
       "    </tr>\n",
       "    <tr>\n",
       "      <th>2</th>\n",
       "      <td>Albania</td>\n",
       "      <td>2016</td>\n",
       "      <td>76.4</td>\n",
       "    </tr>\n",
       "    <tr>\n",
       "      <th>3</th>\n",
       "      <td>Algeria</td>\n",
       "      <td>2016</td>\n",
       "      <td>76.4</td>\n",
       "    </tr>\n",
       "    <tr>\n",
       "      <th>4</th>\n",
       "      <td>Angola</td>\n",
       "      <td>2016</td>\n",
       "      <td>62.6</td>\n",
       "    </tr>\n",
       "    <tr>\n",
       "      <th>5</th>\n",
       "      <td>Antigua and Barbuda</td>\n",
       "      <td>2016</td>\n",
       "      <td>75.0</td>\n",
       "    </tr>\n",
       "  </tbody>\n",
       "</table>\n",
       "</div>"
      ],
      "text/plain": [
       "               country  year  life_exp\n",
       "1          Afghanistan  2016      62.7\n",
       "2              Albania  2016      76.4\n",
       "3              Algeria  2016      76.4\n",
       "4               Angola  2016      62.6\n",
       "5  Antigua and Barbuda  2016      75.0"
      ]
     },
     "execution_count": 813,
     "metadata": {},
     "output_type": "execute_result"
    }
   ],
   "source": [
    "life_df.head()"
   ]
  },
  {
   "cell_type": "markdown",
   "metadata": {
    "Collapsed": "false"
   },
   "source": [
    "Much better. Now we do the same thing for the colonial independence dataset:"
   ]
  },
  {
   "cell_type": "code",
   "execution_count": 814,
   "metadata": {
    "Collapsed": "false"
   },
   "outputs": [],
   "source": [
    "col_df = pd.read_csv(\"coldata110.csv\", dtype=str, header=None)"
   ]
  },
  {
   "cell_type": "code",
   "execution_count": 815,
   "metadata": {
    "Collapsed": "false"
   },
   "outputs": [
    {
     "data": {
      "text/html": [
       "<div>\n",
       "<style scoped>\n",
       "    .dataframe tbody tr th:only-of-type {\n",
       "        vertical-align: middle;\n",
       "    }\n",
       "\n",
       "    .dataframe tbody tr th {\n",
       "        vertical-align: top;\n",
       "    }\n",
       "\n",
       "    .dataframe thead th {\n",
       "        text-align: right;\n",
       "    }\n",
       "</style>\n",
       "<table border=\"1\" class=\"dataframe\">\n",
       "  <thead>\n",
       "    <tr style=\"text-align: right;\">\n",
       "      <th></th>\n",
       "      <th>0</th>\n",
       "      <th>1</th>\n",
       "      <th>2</th>\n",
       "      <th>3</th>\n",
       "      <th>4</th>\n",
       "      <th>5</th>\n",
       "      <th>6</th>\n",
       "      <th>7</th>\n",
       "      <th>8</th>\n",
       "      <th>9</th>\n",
       "      <th>10</th>\n",
       "      <th>11</th>\n",
       "      <th>12</th>\n",
       "      <th>13</th>\n",
       "      <th>14</th>\n",
       "    </tr>\n",
       "  </thead>\n",
       "  <tbody>\n",
       "    <tr>\n",
       "      <th>0</th>\n",
       "      <td>700</td>\n",
       "      <td>Afghanistan</td>\n",
       "      <td>200</td>\n",
       "      <td>200</td>\n",
       "      <td>191908</td>\n",
       "      <td>0</td>\n",
       "      <td>2</td>\n",
       "      <td>-9</td>\n",
       "      <td>-9</td>\n",
       "      <td>-9</td>\n",
       "      <td>-9</td>\n",
       "      <td>-9</td>\n",
       "      <td>191908</td>\n",
       "      <td>191905</td>\n",
       "      <td>G&amp;W add earlier indep from 1/1/1816-12/30/1888</td>\n",
       "    </tr>\n",
       "    <tr>\n",
       "      <th>1</th>\n",
       "      <td>339</td>\n",
       "      <td>Albania</td>\n",
       "      <td>640</td>\n",
       "      <td>640</td>\n",
       "      <td>191307</td>\n",
       "      <td>1</td>\n",
       "      <td>2</td>\n",
       "      <td>-9</td>\n",
       "      <td>-9</td>\n",
       "      <td>-9</td>\n",
       "      <td>-9</td>\n",
       "      <td>-9</td>\n",
       "      <td>191401</td>\n",
       "      <td>191301</td>\n",
       "      <td>COW system interrupted 4/1939-11/1944 (Ital/Ge...</td>\n",
       "    </tr>\n",
       "    <tr>\n",
       "      <th>2</th>\n",
       "      <td>615</td>\n",
       "      <td>Algeria</td>\n",
       "      <td>220</td>\n",
       "      <td>220</td>\n",
       "      <td>196207</td>\n",
       "      <td>1</td>\n",
       "      <td>2</td>\n",
       "      <td>-9</td>\n",
       "      <td>-9</td>\n",
       "      <td>-9</td>\n",
       "      <td>-9</td>\n",
       "      <td>-9</td>\n",
       "      <td>196207</td>\n",
       "      <td>196207</td>\n",
       "      <td>G&amp;W add earlier indep from 1/1/1816-7/5/1830</td>\n",
       "    </tr>\n",
       "    <tr>\n",
       "      <th>3</th>\n",
       "      <td>540</td>\n",
       "      <td>Angola</td>\n",
       "      <td>235</td>\n",
       "      <td>235</td>\n",
       "      <td>197511</td>\n",
       "      <td>1</td>\n",
       "      <td>2</td>\n",
       "      <td>-9</td>\n",
       "      <td>-9</td>\n",
       "      <td>-9</td>\n",
       "      <td>-9</td>\n",
       "      <td>-9</td>\n",
       "      <td>197511</td>\n",
       "      <td>197511</td>\n",
       "      <td>-9</td>\n",
       "    </tr>\n",
       "    <tr>\n",
       "      <th>4</th>\n",
       "      <td>58</td>\n",
       "      <td>Antigua and Barbuda</td>\n",
       "      <td>200</td>\n",
       "      <td>200</td>\n",
       "      <td>198111</td>\n",
       "      <td>0</td>\n",
       "      <td>2</td>\n",
       "      <td>-9</td>\n",
       "      <td>-9</td>\n",
       "      <td>-9</td>\n",
       "      <td>-9</td>\n",
       "      <td>-9</td>\n",
       "      <td>198111</td>\n",
       "      <td>-9</td>\n",
       "      <td>Includes Antigua/Barbuda/Redonda islands</td>\n",
       "    </tr>\n",
       "  </tbody>\n",
       "</table>\n",
       "</div>"
      ],
      "text/plain": [
       "    0                    1    2    3       4  5  6   7   8   9   10  11  \\\n",
       "0  700          Afghanistan  200  200  191908  0  2  -9  -9  -9  -9  -9   \n",
       "1  339              Albania  640  640  191307  1  2  -9  -9  -9  -9  -9   \n",
       "2  615              Algeria  220  220  196207  1  2  -9  -9  -9  -9  -9   \n",
       "3  540               Angola  235  235  197511  1  2  -9  -9  -9  -9  -9   \n",
       "4   58  Antigua and Barbuda  200  200  198111  0  2  -9  -9  -9  -9  -9   \n",
       "\n",
       "       12      13                                                 14  \n",
       "0  191908  191905     G&W add earlier indep from 1/1/1816-12/30/1888  \n",
       "1  191401  191301  COW system interrupted 4/1939-11/1944 (Ital/Ge...  \n",
       "2  196207  196207       G&W add earlier indep from 1/1/1816-7/5/1830  \n",
       "3  197511  197511                                                 -9  \n",
       "4  198111      -9           Includes Antigua/Barbuda/Redonda islands  "
      ]
     },
     "execution_count": 815,
     "metadata": {},
     "output_type": "execute_result"
    }
   ],
   "source": [
    "col_df.head()"
   ]
  },
  {
   "cell_type": "markdown",
   "metadata": {
    "Collapsed": "false"
   },
   "source": [
    "Again, pretty gross. So we clean:"
   ]
  },
  {
   "cell_type": "code",
   "execution_count": 816,
   "metadata": {
    "Collapsed": "false"
   },
   "outputs": [],
   "source": [
    "# The only columns we really need are the two labeled\n",
    "# 1 (the country name) and 4 (the date of independence)\n",
    "col_df = col_df[[1,4]].copy()\n",
    "# Now that we only have 2 columns, we can set their names manually\n",
    "col_df.columns = [\"country\",\"ind_date\"]\n",
    "# Finally, we want to derive a continuous variable yrs_since_ind\n",
    "# from the string variable ind_date, so we use a lambda function\n",
    "# to instruct Pandas on how to transform each ind_date value\n",
    "col_df[\"yrs_since_ind\"] = col_df[\"ind_date\"].apply(lambda x: 2016 - int(x[:4]))"
   ]
  },
  {
   "cell_type": "code",
   "execution_count": 817,
   "metadata": {
    "Collapsed": "false"
   },
   "outputs": [
    {
     "data": {
      "text/html": [
       "<div>\n",
       "<style scoped>\n",
       "    .dataframe tbody tr th:only-of-type {\n",
       "        vertical-align: middle;\n",
       "    }\n",
       "\n",
       "    .dataframe tbody tr th {\n",
       "        vertical-align: top;\n",
       "    }\n",
       "\n",
       "    .dataframe thead th {\n",
       "        text-align: right;\n",
       "    }\n",
       "</style>\n",
       "<table border=\"1\" class=\"dataframe\">\n",
       "  <thead>\n",
       "    <tr style=\"text-align: right;\">\n",
       "      <th></th>\n",
       "      <th>country</th>\n",
       "      <th>ind_date</th>\n",
       "      <th>yrs_since_ind</th>\n",
       "    </tr>\n",
       "  </thead>\n",
       "  <tbody>\n",
       "    <tr>\n",
       "      <th>0</th>\n",
       "      <td>Afghanistan</td>\n",
       "      <td>191908</td>\n",
       "      <td>97</td>\n",
       "    </tr>\n",
       "    <tr>\n",
       "      <th>1</th>\n",
       "      <td>Albania</td>\n",
       "      <td>191307</td>\n",
       "      <td>103</td>\n",
       "    </tr>\n",
       "    <tr>\n",
       "      <th>2</th>\n",
       "      <td>Algeria</td>\n",
       "      <td>196207</td>\n",
       "      <td>54</td>\n",
       "    </tr>\n",
       "    <tr>\n",
       "      <th>3</th>\n",
       "      <td>Angola</td>\n",
       "      <td>197511</td>\n",
       "      <td>41</td>\n",
       "    </tr>\n",
       "    <tr>\n",
       "      <th>4</th>\n",
       "      <td>Antigua and Barbuda</td>\n",
       "      <td>198111</td>\n",
       "      <td>35</td>\n",
       "    </tr>\n",
       "  </tbody>\n",
       "</table>\n",
       "</div>"
      ],
      "text/plain": [
       "               country ind_date  yrs_since_ind\n",
       "0          Afghanistan   191908             97\n",
       "1              Albania   191307            103\n",
       "2              Algeria   196207             54\n",
       "3               Angola   197511             41\n",
       "4  Antigua and Barbuda   198111             35"
      ]
     },
     "execution_count": 817,
     "metadata": {},
     "output_type": "execute_result"
    }
   ],
   "source": [
    "col_df.head()"
   ]
  },
  {
   "cell_type": "markdown",
   "metadata": {
    "Collapsed": "false"
   },
   "source": [
    "Finally, we merge these two datasets together using Pandas' `merge()` function, so that we have a *single* DataFrame we can use for our analysis and regression:"
   ]
  },
  {
   "cell_type": "code",
   "execution_count": 818,
   "metadata": {
    "Collapsed": "false"
   },
   "outputs": [],
   "source": [
    "merged_df = col_df.merge(life_df, on=\"country\", how=\"left\", indicator=True)"
   ]
  },
  {
   "cell_type": "markdown",
   "metadata": {
    "Collapsed": "false"
   },
   "source": [
    "This checks to see if there are any rows in `col_df` that it couldn't merge with `life_df`. If a country was only found in `col_df`, the `_merge` column for that country will have the value `\"left_only\"`, whereas if a country was found in both and successfully merged the `_merge` value will instead be `\"both\"`. (Countries only found in the *life expectancy* data would theoretically be labelled `\"right_only\"`, except that I specified that I *don't* want these countries to be included via the `how=\"left\"` argument in the `merge()` call above.)"
   ]
  },
  {
   "cell_type": "code",
   "execution_count": 819,
   "metadata": {
    "Collapsed": "false"
   },
   "outputs": [
    {
     "data": {
      "text/html": [
       "<div>\n",
       "<style scoped>\n",
       "    .dataframe tbody tr th:only-of-type {\n",
       "        vertical-align: middle;\n",
       "    }\n",
       "\n",
       "    .dataframe tbody tr th {\n",
       "        vertical-align: top;\n",
       "    }\n",
       "\n",
       "    .dataframe thead th {\n",
       "        text-align: right;\n",
       "    }\n",
       "</style>\n",
       "<table border=\"1\" class=\"dataframe\">\n",
       "  <thead>\n",
       "    <tr style=\"text-align: right;\">\n",
       "      <th></th>\n",
       "      <th>country</th>\n",
       "      <th>ind_date</th>\n",
       "      <th>yrs_since_ind</th>\n",
       "      <th>year</th>\n",
       "      <th>life_exp</th>\n",
       "      <th>_merge</th>\n",
       "    </tr>\n",
       "  </thead>\n",
       "  <tbody>\n",
       "  </tbody>\n",
       "</table>\n",
       "</div>"
      ],
      "text/plain": [
       "Empty DataFrame\n",
       "Columns: [country, ind_date, yrs_since_ind, year, life_exp, _merge]\n",
       "Index: []"
      ]
     },
     "execution_count": 819,
     "metadata": {},
     "output_type": "execute_result"
    }
   ],
   "source": [
    "merged_df[merged_df[\"_merge\"] != \"both\"]"
   ]
  },
  {
   "cell_type": "markdown",
   "metadata": {
    "Collapsed": "false"
   },
   "source": [
    "Great, no failures in the merge! So we can drop the `_merge` variable:"
   ]
  },
  {
   "cell_type": "code",
   "execution_count": 820,
   "metadata": {
    "Collapsed": "false"
   },
   "outputs": [],
   "source": [
    "merged_df.drop(columns=[\"_merge\"], inplace=True)"
   ]
  },
  {
   "cell_type": "markdown",
   "metadata": {
    "Collapsed": "false"
   },
   "source": [
    "Now let's look at the first 5 rows of our new combined DataFrame and move to the next part:"
   ]
  },
  {
   "cell_type": "code",
   "execution_count": 821,
   "metadata": {
    "Collapsed": "false"
   },
   "outputs": [
    {
     "data": {
      "text/html": [
       "<div>\n",
       "<style scoped>\n",
       "    .dataframe tbody tr th:only-of-type {\n",
       "        vertical-align: middle;\n",
       "    }\n",
       "\n",
       "    .dataframe tbody tr th {\n",
       "        vertical-align: top;\n",
       "    }\n",
       "\n",
       "    .dataframe thead th {\n",
       "        text-align: right;\n",
       "    }\n",
       "</style>\n",
       "<table border=\"1\" class=\"dataframe\">\n",
       "  <thead>\n",
       "    <tr style=\"text-align: right;\">\n",
       "      <th></th>\n",
       "      <th>country</th>\n",
       "      <th>ind_date</th>\n",
       "      <th>yrs_since_ind</th>\n",
       "      <th>year</th>\n",
       "      <th>life_exp</th>\n",
       "    </tr>\n",
       "  </thead>\n",
       "  <tbody>\n",
       "    <tr>\n",
       "      <th>0</th>\n",
       "      <td>Afghanistan</td>\n",
       "      <td>191908</td>\n",
       "      <td>97</td>\n",
       "      <td>2016</td>\n",
       "      <td>62.7</td>\n",
       "    </tr>\n",
       "    <tr>\n",
       "      <th>1</th>\n",
       "      <td>Albania</td>\n",
       "      <td>191307</td>\n",
       "      <td>103</td>\n",
       "      <td>2016</td>\n",
       "      <td>76.4</td>\n",
       "    </tr>\n",
       "    <tr>\n",
       "      <th>2</th>\n",
       "      <td>Algeria</td>\n",
       "      <td>196207</td>\n",
       "      <td>54</td>\n",
       "      <td>2016</td>\n",
       "      <td>76.4</td>\n",
       "    </tr>\n",
       "    <tr>\n",
       "      <th>3</th>\n",
       "      <td>Angola</td>\n",
       "      <td>197511</td>\n",
       "      <td>41</td>\n",
       "      <td>2016</td>\n",
       "      <td>62.6</td>\n",
       "    </tr>\n",
       "    <tr>\n",
       "      <th>4</th>\n",
       "      <td>Antigua and Barbuda</td>\n",
       "      <td>198111</td>\n",
       "      <td>35</td>\n",
       "      <td>2016</td>\n",
       "      <td>75.0</td>\n",
       "    </tr>\n",
       "  </tbody>\n",
       "</table>\n",
       "</div>"
      ],
      "text/plain": [
       "               country ind_date  yrs_since_ind  year  life_exp\n",
       "0          Afghanistan   191908             97  2016      62.7\n",
       "1              Albania   191307            103  2016      76.4\n",
       "2              Algeria   196207             54  2016      76.4\n",
       "3               Angola   197511             41  2016      62.6\n",
       "4  Antigua and Barbuda   198111             35  2016      75.0"
      ]
     },
     "execution_count": 821,
     "metadata": {},
     "output_type": "execute_result"
    }
   ],
   "source": [
    "merged_df.head()"
   ]
  },
  {
   "cell_type": "markdown",
   "metadata": {
    "Collapsed": "false"
   },
   "source": [
    "## Part 3: Initial Analysis"
   ]
  },
  {
   "cell_type": "markdown",
   "metadata": {
    "Collapsed": "false"
   },
   "source": [
    "**Q5**: Conduct **at least two different manipulations** of your now-ready table that help you understand something of interest about the dataset (e.g., you might explore options like `sort_values()`, `shape`, `value_counts()`, `groupby()`, etc.).  Why did you choose these two,  and what have you learned?  (Hint: You may need to do a bit of work to get the data into a format that is usable for you -- e.g., renaming columns, changing data types, etc. If any of this was necessary, show your code and briefly explain why you made these changes)"
   ]
  },
  {
   "cell_type": "markdown",
   "metadata": {
    "Collapsed": "false"
   },
   "source": [
    "**First**, I'll just use the `shape` property of my DataFrame to see how many rows and columns are in my dataset:"
   ]
  },
  {
   "cell_type": "code",
   "execution_count": 822,
   "metadata": {
    "Collapsed": "false"
   },
   "outputs": [
    {
     "data": {
      "text/plain": [
       "(183, 5)"
      ]
     },
     "execution_count": 822,
     "metadata": {},
     "output_type": "execute_result"
    }
   ],
   "source": [
    "merged_df.shape"
   ]
  },
  {
   "cell_type": "markdown",
   "metadata": {
    "Collapsed": "false"
   },
   "source": [
    "So, from this I've learned that there are 183 total countries in my dataset, and that I have 5 pieces of information for each country."
   ]
  },
  {
   "cell_type": "markdown",
   "metadata": {
    "Collapsed": "false"
   },
   "source": [
    "**Second**, I'd like to use `sort_values()` to show me the general range of values that the `yrs_since_ind` variable takes on:"
   ]
  },
  {
   "cell_type": "code",
   "execution_count": 823,
   "metadata": {
    "Collapsed": "false"
   },
   "outputs": [
    {
     "data": {
      "text/html": [
       "<div>\n",
       "<style scoped>\n",
       "    .dataframe tbody tr th:only-of-type {\n",
       "        vertical-align: middle;\n",
       "    }\n",
       "\n",
       "    .dataframe tbody tr th {\n",
       "        vertical-align: top;\n",
       "    }\n",
       "\n",
       "    .dataframe thead th {\n",
       "        text-align: right;\n",
       "    }\n",
       "</style>\n",
       "<table border=\"1\" class=\"dataframe\">\n",
       "  <thead>\n",
       "    <tr style=\"text-align: right;\">\n",
       "      <th></th>\n",
       "      <th>country</th>\n",
       "      <th>ind_date</th>\n",
       "      <th>yrs_since_ind</th>\n",
       "      <th>year</th>\n",
       "      <th>life_exp</th>\n",
       "    </tr>\n",
       "  </thead>\n",
       "  <tbody>\n",
       "    <tr>\n",
       "      <th>153</th>\n",
       "      <td>South Sudan</td>\n",
       "      <td>201107</td>\n",
       "      <td>5</td>\n",
       "      <td>2016</td>\n",
       "      <td>58.6</td>\n",
       "    </tr>\n",
       "    <tr>\n",
       "      <th>110</th>\n",
       "      <td>Montenegro</td>\n",
       "      <td>200606</td>\n",
       "      <td>10</td>\n",
       "      <td>2016</td>\n",
       "      <td>76.8</td>\n",
       "    </tr>\n",
       "    <tr>\n",
       "      <th>48</th>\n",
       "      <td>Timor-Leste</td>\n",
       "      <td>200205</td>\n",
       "      <td>14</td>\n",
       "      <td>2016</td>\n",
       "      <td>68.6</td>\n",
       "    </tr>\n",
       "    <tr>\n",
       "      <th>151</th>\n",
       "      <td>South Africa</td>\n",
       "      <td>199404</td>\n",
       "      <td>22</td>\n",
       "      <td>2016</td>\n",
       "      <td>63.6</td>\n",
       "    </tr>\n",
       "    <tr>\n",
       "      <th>53</th>\n",
       "      <td>Eritrea</td>\n",
       "      <td>199305</td>\n",
       "      <td>23</td>\n",
       "      <td>2016</td>\n",
       "      <td>65.0</td>\n",
       "    </tr>\n",
       "    <tr>\n",
       "      <th>...</th>\n",
       "      <td>...</td>\n",
       "      <td>...</td>\n",
       "      <td>...</td>\n",
       "      <td>...</td>\n",
       "      <td>...</td>\n",
       "    </tr>\n",
       "    <tr>\n",
       "      <th>8</th>\n",
       "      <td>Austria</td>\n",
       "      <td>128212</td>\n",
       "      <td>734</td>\n",
       "      <td>2016</td>\n",
       "      <td>81.9</td>\n",
       "    </tr>\n",
       "    <tr>\n",
       "      <th>132</th>\n",
       "      <td>Portugal</td>\n",
       "      <td>113907</td>\n",
       "      <td>877</td>\n",
       "      <td>2016</td>\n",
       "      <td>81.5</td>\n",
       "    </tr>\n",
       "    <tr>\n",
       "      <th>173</th>\n",
       "      <td>United Kingdom</td>\n",
       "      <td>106612</td>\n",
       "      <td>950</td>\n",
       "      <td>2016</td>\n",
       "      <td>81.4</td>\n",
       "    </tr>\n",
       "    <tr>\n",
       "      <th>45</th>\n",
       "      <td>Denmark</td>\n",
       "      <td>098000</td>\n",
       "      <td>1036</td>\n",
       "      <td>2016</td>\n",
       "      <td>81.2</td>\n",
       "    </tr>\n",
       "    <tr>\n",
       "      <th>60</th>\n",
       "      <td>France</td>\n",
       "      <td>094308</td>\n",
       "      <td>1073</td>\n",
       "      <td>2016</td>\n",
       "      <td>82.9</td>\n",
       "    </tr>\n",
       "  </tbody>\n",
       "</table>\n",
       "<p>183 rows × 5 columns</p>\n",
       "</div>"
      ],
      "text/plain": [
       "            country ind_date  yrs_since_ind  year  life_exp\n",
       "153     South Sudan   201107              5  2016      58.6\n",
       "110      Montenegro   200606             10  2016      76.8\n",
       "48      Timor-Leste   200205             14  2016      68.6\n",
       "151    South Africa   199404             22  2016      63.6\n",
       "53          Eritrea   199305             23  2016      65.0\n",
       "..              ...      ...            ...   ...       ...\n",
       "8           Austria   128212            734  2016      81.9\n",
       "132        Portugal   113907            877  2016      81.5\n",
       "173  United Kingdom   106612            950  2016      81.4\n",
       "45          Denmark   098000           1036  2016      81.2\n",
       "60           France   094308           1073  2016      82.9\n",
       "\n",
       "[183 rows x 5 columns]"
      ]
     },
     "execution_count": 823,
     "metadata": {},
     "output_type": "execute_result"
    }
   ],
   "source": [
    "merged_df.sort_values(by=\"yrs_since_ind\")"
   ]
  },
  {
   "cell_type": "markdown",
   "metadata": {
    "Collapsed": "false"
   },
   "source": [
    "So, from this second manipulation I've learned that there's a pretty wide range of ages: France, according to this dataset, has been independent from \"colonial\" powers (though people in 943 wouldn't have thought of what they were doing as \"decolonization\" obviously) since 943 A.D., whereas South Sudan only became an independent nation in 2011."
   ]
  },
  {
   "cell_type": "markdown",
   "metadata": {
    "Collapsed": "false"
   },
   "source": [
    "**Q6**: Generate **two different types of graphs** of any kind that are useful to you to better understand what you're interested in.  They don't need to be formatted particularly beautifully, but you do need to use two different types of graphs (e.g., a bar chart and a scatterplot) and explain what you hoped to understand, why you chose these graphs, and whether they're useful in improving your understanding."
   ]
  },
  {
   "cell_type": "code",
   "execution_count": 830,
   "metadata": {
    "Collapsed": "false"
   },
   "outputs": [
    {
     "data": {
      "image/png": "[encoded data removed]",
      "text/plain": [
       "<Figure size 432x288 with 1 Axes>"
      ]
     },
     "metadata": {
      "needs_background": "light"
     },
     "output_type": "display_data"
    }
   ],
   "source": [
    "plt.scatter(x=merged_df[\"yrs_since_ind\"], y=merged_df[\"life_exp\"])\n",
    "plt.xlabel(\"Years Since Independence\")\n",
    "plt.ylabel(\"Life Expectancy\")\n",
    "plt.title(f\"Scatterplot for N={len(merged_df)} Countries\")\n",
    "plt.show()"
   ]
  },
  {
   "cell_type": "markdown",
   "metadata": {
    "Collapsed": "false"
   },
   "source": [
    "Now, this scatterplot helps me see that a few countries have extremely large `yrs_since_ind` values, which hinders our ability to see the relationship displayed in the scatterplot because most of the points are bunched up on the left side of the plot. So, I *could* just choose some arbitrary threshold -- say, 600 years -- and remove all outlier countries with `yrs_since_ind` values greater than this. But (tying history/social science knowledge in with our data analysis, always a good thing to do if you can), there's actually a fairly solid rationale for choosing **368 years** as this threshold: namely, that in 1648 the [Treaty of Westphalia](https://en.wikipedia.org/wiki/Peace_of_Westphalia) was signed, thus inaugurating (in the eyes of many/most scholars of International Relations, at least) the modern notion of [territorial sovereignty](https://global.oup.com/academic/product/territorial-sovereignty-9780198833536?cc=us&lang=en&) in which we associate the abstract entity of a \"state\" or \"nation\" with a physical geographic territory over which the government of that \"state\"/\"nation\" has sovereign power.\n",
    "\n",
    "So, with that in mind, I create a new DataFrame called `merged_df_tw` (`tw` standing for Treaty of Westphalia), containing only those countries that gained independence since 1648, and generate the same scatterplot using this new data so that we can more clearly see the relationship between our two variables of interest:"
   ]
  },
  {
   "cell_type": "code",
   "execution_count": 832,
   "metadata": {
    "Collapsed": "false"
   },
   "outputs": [],
   "source": [
    "merged_df_tw = merged_df[merged_df[\"yrs_since_ind\"] < 368].copy()"
   ]
  },
  {
   "cell_type": "code",
   "execution_count": 834,
   "metadata": {
    "Collapsed": "false"
   },
   "outputs": [
    {
     "data": {
      "image/png": "[encoded data removed]",
      "text/plain": [
       "<Figure size 432x288 with 1 Axes>"
      ]
     },
     "metadata": {
      "needs_background": "light"
     },
     "output_type": "display_data"
    }
   ],
   "source": [
    "plt.scatter(x=merged_df_tw[\"yrs_since_ind\"], y=merged_df_tw[\"life_exp\"])\n",
    "plt.xlabel(\"Years Since Independence\")\n",
    "plt.ylabel(\"Life Expectancy\")\n",
    "plt.title(f\"Scatterplot for N={len(merged_df)} Countries\")\n",
    "plt.show()"
   ]
  },
  {
   "cell_type": "markdown",
   "metadata": {
    "Collapsed": "false"
   },
   "source": [
    "And thus we conclude that the scatterplot *was* helpful for our analysis, since it helped us recognize the presence of outliers and, once those outliers were removed, it helped us see that there seems to be some sort of positive relationship between our two variables of interest, albeit probably not a linear one."
   ]
  },
  {
   "cell_type": "markdown",
   "metadata": {
    "Collapsed": "false"
   },
   "source": [
    "Next, I'll use `matplotlib`'s `boxplot()` function to create a box-and-whiskers plot of the life expectancy data, just so I can see what the median, quartiles, and range of the life expectancy variable look like:"
   ]
  },
  {
   "cell_type": "code",
   "execution_count": 841,
   "metadata": {
    "Collapsed": "false"
   },
   "outputs": [
    {
     "data": {
      "image/png": "[encoded data removed]",
      "text/plain": [
       "<Figure size 432x288 with 1 Axes>"
      ]
     },
     "metadata": {
      "needs_background": "light"
     },
     "output_type": "display_data"
    }
   ],
   "source": [
    "plt.boxplot(merged_df_tw[\"life_exp\"], vert=False)\n",
    "plt.xlabel(\"Life Expectancy\")\n",
    "plt.show()"
   ]
  },
  {
   "cell_type": "markdown",
   "metadata": {
    "Collapsed": "false"
   },
   "source": [
    "And from this plot we can see that while the median life expectancy is somewhere around 73 years, 25% of countries still have a life expectancy less than ~65 years (the \"whisker\" spanning from ~53 to ~65). We would expect that a disproportionate number of these low-life-expectancy countries are recently-liberated colonies, based on our (alternative) hypothesis, but this plot can't show us *which* countries are in that whisker. So, it was a useful graph for getting a sense of the distribution of life expectancies in the dataset, but it would be more helpful if it allowed us to (say) mouse over the whisker and see which countries have life expectancies in that range."
   ]
  },
  {
   "cell_type": "markdown",
   "metadata": {
    "Collapsed": "false"
   },
   "source": [
    "## Part 4: Hypothesis Formulation"
   ]
  },
  {
   "cell_type": "markdown",
   "metadata": {
    "Collapsed": "false"
   },
   "source": [
    "**Q7**: What is your dependent variable and independent variable? Briefly describe how they are measured in this dataset. (Remember, they'll both need to be continuous variables.)"
   ]
  },
  {
   "cell_type": "markdown",
   "metadata": {
    "Collapsed": "false"
   },
   "source": [
    "Given that I'm interested in present-day socioeconomic conditions as the *outcome* of colonization, the *dependent* variable in my theory is life expectancy and the *independent* variable is the amount of time the country has had to \"develop\" post-decolonization. Then, to operationalize these conceptual variables, life expectancy is measured here as the number of years that a child born in 2016 in a given country can expect to live while the amount of time a country had to \"develop\" is measured as the number of years it had from its independence date to 2016."
   ]
  },
  {
   "cell_type": "markdown",
   "metadata": {
    "Collapsed": "false"
   },
   "source": [
    "**Q8**: Calculate the correlation coefficient between your two variables and interpret the result."
   ]
  },
  {
   "cell_type": "markdown",
   "metadata": {
    "Collapsed": "false"
   },
   "source": [
    "Annoyingly, Pandas' `corr()` function insists on generating a correlation *matrix* for a DataFrame with 2 variables, instead of just a single number. So, we'll generate the matrix then use Pandas' `.loc[]` function to get the specific coefficient we want:"
   ]
  },
  {
   "cell_type": "code",
   "execution_count": 845,
   "metadata": {
    "Collapsed": "false"
   },
   "outputs": [
    {
     "data": {
      "text/html": [
       "<div>\n",
       "<style scoped>\n",
       "    .dataframe tbody tr th:only-of-type {\n",
       "        vertical-align: middle;\n",
       "    }\n",
       "\n",
       "    .dataframe tbody tr th {\n",
       "        vertical-align: top;\n",
       "    }\n",
       "\n",
       "    .dataframe thead th {\n",
       "        text-align: right;\n",
       "    }\n",
       "</style>\n",
       "<table border=\"1\" class=\"dataframe\">\n",
       "  <thead>\n",
       "    <tr style=\"text-align: right;\">\n",
       "      <th></th>\n",
       "      <th>yrs_since_ind</th>\n",
       "      <th>life_exp</th>\n",
       "    </tr>\n",
       "  </thead>\n",
       "  <tbody>\n",
       "    <tr>\n",
       "      <th>yrs_since_ind</th>\n",
       "      <td>1.000000</td>\n",
       "      <td>0.332302</td>\n",
       "    </tr>\n",
       "    <tr>\n",
       "      <th>life_exp</th>\n",
       "      <td>0.332302</td>\n",
       "      <td>1.000000</td>\n",
       "    </tr>\n",
       "  </tbody>\n",
       "</table>\n",
       "</div>"
      ],
      "text/plain": [
       "               yrs_since_ind  life_exp\n",
       "yrs_since_ind       1.000000  0.332302\n",
       "life_exp            0.332302  1.000000"
      ]
     },
     "execution_count": 845,
     "metadata": {},
     "output_type": "execute_result"
    }
   ],
   "source": [
    "correlation_matrix = merged_df_tw[[\"yrs_since_ind\",\"life_exp\"]].corr()\n",
    "correlation_matrix"
   ]
  },
  {
   "cell_type": "code",
   "execution_count": 846,
   "metadata": {
    "Collapsed": "false"
   },
   "outputs": [
    {
     "data": {
      "text/plain": [
       "0.33230186992247207"
      ]
     },
     "execution_count": 846,
     "metadata": {},
     "output_type": "execute_result"
    }
   ],
   "source": [
    "correlation_matrix.loc[\"yrs_since_ind\",\"life_exp\"]"
   ]
  },
  {
   "cell_type": "markdown",
   "metadata": {
    "Collapsed": "false"
   },
   "source": [
    "So, there is about a 33.23% correlation between years since independence and life expectancy, which is quite high as far as macroeconomic/social-scientific variables go (due to the millions of factors which go into these aggregate measures)"
   ]
  },
  {
   "cell_type": "markdown",
   "metadata": {
    "Collapsed": "false"
   },
   "source": [
    "**Q9**: Write out your regression model as an equation."
   ]
  },
  {
   "cell_type": "markdown",
   "metadata": {
    "Collapsed": "false"
   },
   "source": [
    "The standard way to write a regression equation is with the *dependent* variable on the lefthand side of the equation and any *independent* vars (or potential confounding variables you've included) on the righthand side. In this case:"
   ]
  },
  {
   "cell_type": "markdown",
   "metadata": {
    "Collapsed": "false"
   },
   "source": [
    "$$\\text{life_exp} = \\beta_0 + \\beta_1 * \\text{yrs_since_ind}$$"
   ]
  },
  {
   "cell_type": "markdown",
   "metadata": {
    "Collapsed": "false"
   },
   "source": [
    "Where $\\beta_0$ will be the *y-intercept* of the estimated regression line (the life expectancy value we'd expect to see for a country with *zero* years since independence, i.e., the estimated life expectancy upon gaining independence) and $\\beta_1$ will be the *regression coefficient*, the estimated effect that a 1-year increase in years since independence would have on life expectancy."
   ]
  },
  {
   "cell_type": "markdown",
   "metadata": {
    "Collapsed": "false"
   },
   "source": [
    "**Q10**: Write out your null and alternative hypotheses."
   ]
  },
  {
   "cell_type": "markdown",
   "metadata": {
    "Collapsed": "false"
   },
   "source": [
    "Now that we have this regression equation, we can write the null and alternative hypotheses simply as:\n",
    "\n",
    "* **H_0**: $\\beta_1 = 0$ (an additional year of independence for a country has no effect on its life expectancy)\n",
    "* **H_A**: $\\beta_1 \\neq 0$ (an additional year of independence for a country has an effect on its life expectancy)"
   ]
  },
  {
   "cell_type": "markdown",
   "metadata": {
    "Collapsed": "false"
   },
   "source": [
    "## Part 5: Regression Analysis"
   ]
  },
  {
   "cell_type": "markdown",
   "metadata": {
    "Collapsed": "false"
   },
   "source": [
    "**Q11**: Estimate the regression equation you specified above and show the regression output."
   ]
  },
  {
   "cell_type": "markdown",
   "metadata": {
    "Collapsed": "false"
   },
   "source": [
    "This is the part that you have *not* learned in lecture yet, but we'll use a library called `statsmodels` to carry out our regression analysis. This library *is* available to you on JupyterHub, as long as you make sure you're using the \"dsua-111\" environment rather than the \"Python 3\" environment. If you don't see \"conda env:dsua-111\" in the upper-righthand corner of your notebook, you can switch to this environment by clicking Kernel -> Change Kernel in the menubar and then selecting the \"dsua-111\" environment."
   ]
  },
  {
   "cell_type": "code",
   "execution_count": 737,
   "metadata": {
    "Collapsed": "false"
   },
   "outputs": [
    {
     "name": "stdout",
     "output_type": "stream",
     "text": [
      "                            OLS Regression Results                            \n",
      "==============================================================================\n",
      "Dep. Variable:               life_exp   R-squared:                       0.110\n",
      "Model:                            OLS   Adj. R-squared:                  0.105\n",
      "Method:                 Least Squares   F-statistic:                     20.61\n",
      "Date:                Thu, 16 Apr 2020   Prob (F-statistic):           1.08e-05\n",
      "Time:                        23:09:38   Log-Likelihood:                -565.18\n",
      "No. Observations:                 168   AIC:                             1134.\n",
      "Df Residuals:                     166   BIC:                             1141.\n",
      "Df Model:                           1                                         \n",
      "Covariance Type:            nonrobust                                         \n",
      "=================================================================================\n",
      "                    coef    std err          t      P>|t|      [0.025      0.975]\n",
      "---------------------------------------------------------------------------------\n",
      "Intercept        67.8297      0.889     76.285      0.000      66.074      69.585\n",
      "yrs_since_ind     0.0387      0.009      4.539      0.000       0.022       0.056\n",
      "==============================================================================\n",
      "Omnibus:                        7.032   Durbin-Watson:                   1.876\n",
      "Prob(Omnibus):                  0.030   Jarque-Bera (JB):                6.257\n",
      "Skew:                          -0.399   Prob(JB):                       0.0438\n",
      "Kurtosis:                       2.493   Cond. No.                         171.\n",
      "==============================================================================\n",
      "\n",
      "Warnings:\n",
      "[1] Standard Errors assume that the covariance matrix of the errors is correctly specified.\n"
     ]
    }
   ],
   "source": [
    "import statsmodels.formula.api as sm\n",
    "result_tw = sm.ols(formula=\"life_exp ~ yrs_since_ind\", data=merged_df_tw).fit()\n",
    "print(result_tw.summary())"
   ]
  },
  {
   "cell_type": "markdown",
   "metadata": {
    "Collapsed": "false"
   },
   "source": [
    "**Q12**: What do the results in the regression output tell you?  Interpret the coefficient, p-value, and confidence interval for your independent variable (you don't have to do the intercept) and the $R^2$."
   ]
  },
  {
   "cell_type": "code",
   "execution_count": 851,
   "metadata": {
    "Collapsed": "false"
   },
   "outputs": [
    {
     "name": "stdout",
     "output_type": "stream",
     "text": [
      "A 1-year increase in yrs_since_ind is associated with an increase in life expectancy of 0.03872543907633161 years\n"
     ]
    }
   ],
   "source": [
    "beta_1 = result_tw.params[\"yrs_since_ind\"]\n",
    "print(f\"A 1-year increase in yrs_since_ind is associated with an increase in life expectancy of {beta_1} years\")"
   ]
  },
  {
   "cell_type": "code",
   "execution_count": 853,
   "metadata": {
    "Collapsed": "false"
   },
   "outputs": [
    {
     "name": "stdout",
     "output_type": "stream",
     "text": [
      "In other words, an additional year of life expectancy for every 25.822818897647686 years of independence\n"
     ]
    }
   ],
   "source": [
    "print(f\"In other words, an additional year of life expectancy for every {1/beta_1} years of independence\")"
   ]
  },
  {
   "cell_type": "markdown",
   "metadata": {
    "Collapsed": "false"
   },
   "source": [
    "And now we'll use the nice plotting library `seaborn` instead of `matplotlib` here, because it has a function `regplot()` specifically made for showing a regression line (with error band) superimposed on a scatterplot of the two variables:"
   ]
  },
  {
   "cell_type": "code",
   "execution_count": 854,
   "metadata": {
    "Collapsed": "false"
   },
   "outputs": [],
   "source": [
    "import seaborn as sns"
   ]
  },
  {
   "cell_type": "code",
   "execution_count": 855,
   "metadata": {
    "Collapsed": "false"
   },
   "outputs": [
    {
     "data": {
      "image/png": "[encoded data removed]",
      "text/plain": [
       "<Figure size 432x288 with 1 Axes>"
      ]
     },
     "metadata": {
      "needs_background": "light"
     },
     "output_type": "display_data"
    }
   ],
   "source": [
    "sns.regplot(x='yrs_since_ind', y='life_exp', data=merged_df_tw)\n",
    "plt.show()"
   ]
  },
  {
   "cell_type": "markdown",
   "metadata": {
    "Collapsed": "false"
   },
   "source": [
    "**Q13**: Which hypothesis do you reject or fail to reject, and why?"
   ]
  },
  {
   "cell_type": "markdown",
   "metadata": {
    "Collapsed": "false"
   },
   "source": [
    "We can look at the `P>|t|` column in the regression result table to get our $p$-value, which in this case is so low that, out to the three decimal places that `statsmodels` prints, it is indistinguishable from zero. Instead, we can use the `pvalues` property of the `result_tw` object to get the full $p$-value:"
   ]
  },
  {
   "cell_type": "code",
   "execution_count": 861,
   "metadata": {
    "Collapsed": "false"
   },
   "outputs": [
    {
     "data": {
      "text/plain": [
       "1.0791308676096611e-05"
      ]
     },
     "execution_count": 861,
     "metadata": {},
     "output_type": "execute_result"
    }
   ],
   "source": [
    "result_tw.pvalues[\"yrs_since_ind\"]"
   ]
  },
  {
   "cell_type": "markdown",
   "metadata": {
    "Collapsed": "false"
   },
   "source": [
    "And we can use this Python trick to display it in regular, non-scientific notation:"
   ]
  },
  {
   "cell_type": "code",
   "execution_count": 862,
   "metadata": {
    "Collapsed": "false"
   },
   "outputs": [
    {
     "data": {
      "text/plain": [
       "'0.000011'"
      ]
     },
     "execution_count": 862,
     "metadata": {},
     "output_type": "execute_result"
    }
   ],
   "source": [
    "'%f' % (result_tw.pvalues[\"yrs_since_ind\"])"
   ]
  },
  {
   "cell_type": "markdown",
   "metadata": {
    "Collapsed": "false"
   },
   "source": [
    "Which means that there is a 0.0011% chance that we'd see a test statistic as high as or higher than the test statistic we got for $\\beta_1$, 4.539 (the value in the `t` column in the regression results table produced by `statsmodels` above)."
   ]
  },
  {
   "cell_type": "markdown",
   "metadata": {
    "Collapsed": "false"
   },
   "source": [
    "**Q14**: Generate the residual plot and comment on any heteroskedasticity. What does this imply for your inference?"
   ]
  },
  {
   "cell_type": "code",
   "execution_count": 778,
   "metadata": {
    "Collapsed": "false"
   },
   "outputs": [
    {
     "data": {
      "image/png": "[encoded data removed]",
      "text/plain": [
       "<Figure size 432x288 with 1 Axes>"
      ]
     },
     "metadata": {
      "needs_background": "light"
     },
     "output_type": "display_data"
    }
   ],
   "source": [
    "sns.regplot(x='yrs_since_ind', y=result_tw.resid, data=merged_df_tw)\n",
    "plt.show()"
   ]
  },
  {
   "cell_type": "markdown",
   "metadata": {
    "Collapsed": "false"
   },
   "source": [
    "There seems to be very little heteroskedasticity, since the residual (the distance from every data point to the estimated regression line) doesn't exhibit any noticeable positive or negative trend -- for example, we don't see the residuals increasing or decreasing systematically with the `yrs_since_ind` variable."
   ]
  },
  {
   "cell_type": "markdown",
   "metadata": {
    "Collapsed": "false"
   },
   "source": [
    "## Part 6: Conclusions"
   ]
  },
  {
   "cell_type": "markdown",
   "metadata": {
    "Collapsed": "false"
   },
   "source": [
    "**Q15**: What biases might be present in the sample itself that could be affecting the outcome?  Discuss at least two sources of bias."
   ]
  },
  {
   "cell_type": "markdown",
   "metadata": {
    "Collapsed": "false"
   },
   "source": [
    "One obvious bias in the sample itself is survivorship bias: since both datasets only contain countries that exist in 2016, we don't observe situations where a country gained independence but was then \"merged into\" another country. For example, [Zanzibar](https://en.wikipedia.org/wiki/Zanzibar) gained independence in 1963, but merged with Tanganyika in 1964 to form Tanzania; [Biafra](https://en.wikipedia.org/wiki/Biafra) seceded from Nigeria in 1967 but was re-absorbed into Nigeria in 1970. Similarly, we are unable to \"track\" differences in life expectancy between East and West Germany, despite the fact that they were independent nations for much of the 20th century (between 1949 and 1990)."
   ]
  },
  {
   "cell_type": "markdown",
   "metadata": {
    "Collapsed": "false"
   },
   "source": [
    "**Q16**: Considering all the work you've done, including the regression output, the results  of  your hypothesis tests, and any biases present in the data, what conclusions, however tentative, can\n",
    "you draw from your analysis about the relationship between your two variables of interest?"
   ]
  },
  {
   "cell_type": "markdown",
   "metadata": {
    "Collapsed": "false"
   },
   "source": [
    "It's **very important** that my response to this question is tempered by the considerations in Q17. But, on the basis of the analysis above, one can conclude that it's not implausible that there's a link between the number of years since decolonization and the health outcomes in a given country."
   ]
  },
  {
   "cell_type": "markdown",
   "metadata": {
    "Collapsed": "false"
   },
   "source": [
    "**Q17**:  What is your analysis’s greatest weakness?  In other words, what are the best reasons to be cautious about what we can learn from it?"
   ]
  },
  {
   "cell_type": "markdown",
   "metadata": {
    "Collapsed": "false"
   },
   "source": [
    "The $p$-value is low enough (indistinguishable from zero, given the number of decimal places that the `statsmodels` package displays) to be considered \"statistically significant\" in the classical statistics sense. Thus, going \"by the book\", we have resoundingly rejected the null hypothesis that the number of years of independence has no effect on the life expectancy of a country. However, a lot of subjective decisions were made -- specifically, when exactly to mark \"independence\" is extremely non-trivial.\n",
    "\n",
    "To give just one example, did Serbia become \"independent\" when the Congress of Berlin recognized it as a sovereign nation in 1878? When it became part of the \"Kingdom of the Serbs, Croats, and Slovenes\" in 1918? When it was liberated from Nazi Germany after WWII and became part of Yugoslavia in 1945? Or when it became an independent nation after the collapse of Yugoslavia in 1992? If we *do* mark the date of liberation from Nazi occupation as the date of independence, don't we also need to change France's date of independence from 943 A.D. to 1945?\n",
    "\n",
    "Issues like these make it imperative that we be *very* cautious when interpreting the results of super-basic linear regression analyses. Without controlling for confounders (e.g., the colonizing-country variable mentioned in Q3), and without doing a barrage of additional tests of *causality* (remember, linear regression is a test of *association*, not *causation*), it really is irresponsible to say something like \"I've now shown that being colonized for longer causes a country to have a lower life expectancy!\""
   ]
  },
  {
   "cell_type": "code",
   "execution_count": null,
   "metadata": {
    "Collapsed": "false"
   },
   "outputs": [],
   "source": []
  }
 ],
 "metadata": {
  "kernelspec": {
   "display_name": "Python 3",
   "language": "python",
   "name": "python3"
  },
  "language_info": {
   "codemirror_mode": {
    "name": "ipython",
    "version": 3
   },
   "file_extension": ".py",
   "mimetype": "text/x-python",
   "name": "python",
   "nbconvert_exporter": "python",
   "pygments_lexer": "ipython3",
   "version": "3.7.3"
  }
 },
 "nbformat": 4,
 "nbformat_minor": 4
}
